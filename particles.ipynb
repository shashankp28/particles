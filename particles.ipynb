{
 "cells": [
  {
   "cell_type": "code",
   "execution_count": 55,
   "metadata": {},
   "outputs": [],
   "source": [
    "import numpy as np\n",
    "import matplotlib.pyplot as plt"
   ]
  },
  {
   "cell_type": "code",
   "execution_count": 56,
   "metadata": {},
   "outputs": [],
   "source": [
    "class Particle:\n",
    "    def __init__(self, coor, vel):\n",
    "        self.coordinate = coor\n",
    "        self.velocity = vel"
   ]
  },
  {
   "cell_type": "code",
   "execution_count": 97,
   "metadata": {},
   "outputs": [],
   "source": [
    "class Environment:\n",
    "    \n",
    "    def __init__(self, d_max):\n",
    "        self.D_max = d_max\n",
    "        self.particles = []\n",
    "        \n",
    "    def generate_particles(self, N):\n",
    "        for i in range(N):\n",
    "            temp_coor = np.random.uniform(size=(2,))*self.D_max\n",
    "            temp_vel = np.zeros((2,))\n",
    "            particle = Particle(temp_coor, temp_vel)\n",
    "            self.particles.append(particle)\n",
    "\n",
    "    def show_environment(self):\n",
    "        plt.figure(figsize=(10, 7))\n",
    "        plt.xlim([0, self.D_max])\n",
    "        plt.ylim([0, self.D_max])\n",
    "        list_of_coors = []\n",
    "        for p in self.particles: list_of_coors.append(p.coordinate)\n",
    "        x,y = zip(*list_of_coors)\n",
    "        plt.scatter(x, y, s=1000)"
   ]
  },
  {
   "cell_type": "code",
   "execution_count": 99,
   "metadata": {},
   "outputs": [
    {
     "data": {
      "image/png": "[encoded data removed]",
      "text/plain": [
       "<Figure size 720x504 with 1 Axes>"
      ]
     },
     "metadata": {
      "needs_background": "light"
     },
     "output_type": "display_data"
    }
   ],
   "source": [
    "env = Environment(5)\n",
    "env.generate_particles(5)\n",
    "env.show_environment()"
   ]
  },
  {
   "cell_type": "code",
   "execution_count": null,
   "metadata": {},
   "outputs": [],
   "source": []
  }
 ],
 "metadata": {
  "kernelspec": {
   "display_name": "Python 3.10.5 ('.mldev')",
   "language": "python",
   "name": "python3"
  },
  "language_info": {
   "codemirror_mode": {
    "name": "ipython",
    "version": 3
   },
   "file_extension": ".py",
   "mimetype": "text/x-python",
   "name": "python",
   "nbconvert_exporter": "python",
   "pygments_lexer": "ipython3",
   "version": "3.10.5"
  },
  "orig_nbformat": 4,
  "vscode": {
   "interpreter": {
    "hash": "19266cbb19c7d437ed74b427797c233550faa7136e2336c345645d4b2d0a5c3c"
   }
  }
 },
 "nbformat": 4,
 "nbformat_minor": 2
}
