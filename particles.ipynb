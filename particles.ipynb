{
 "cells": [
  {
   "cell_type": "code",
   "execution_count": 23,
   "metadata": {},
   "outputs": [],
   "source": [
    "import os\n",
    "import cv2\n",
    "import numpy as np\n",
    "import packcircles as pc\n",
    "from tqdm.notebook import tqdm\n",
    "import matplotlib.pyplot as plt"
   ]
  },
  {
   "cell_type": "code",
   "execution_count": 24,
   "metadata": {},
   "outputs": [],
   "source": [
    "plt.rcParams[\"figure.figsize\"] = (14, 14)\n",
    "max_radius = 0.2\n",
    "img_path = \"./images/\"\n",
    "max_vel = 0.5"
   ]
  },
  {
   "cell_type": "code",
   "execution_count": 25,
   "metadata": {},
   "outputs": [],
   "source": [
    "def is_close(a, b, eps):\n",
    "    a = np.array(a)\n",
    "    b = np.array(b)\n",
    "    return np.linalg.norm(a-b)<=eps"
   ]
  },
  {
   "cell_type": "code",
   "execution_count": 26,
   "metadata": {},
   "outputs": [],
   "source": [
    "class Particle:\n",
    "    \n",
    "    def __init__(self, coor, vel, rad, m):\n",
    "        self.coordinate = coor\n",
    "        self.velocity = vel\n",
    "        self.radius = rad\n",
    "        self.mass = m\n",
    "        self.color = np.random.rand(3,)\n",
    "    \n",
    "    def motion_update(self, acceleration, delta_t):\n",
    "        self.coordinate += self.velocity * delta_t\n",
    "        self.velocity += acceleration * delta_t"
   ]
  },
  {
   "cell_type": "code",
   "execution_count": 27,
   "metadata": {},
   "outputs": [],
   "source": [
    "class Environment:\n",
    "    \n",
    "    def __init__(self, d_max, dt):\n",
    "        self.D_max = d_max\n",
    "        self.particles = []\n",
    "        self.delta_t = dt\n",
    "        \n",
    "    def generate_particles(self, N):\n",
    "        print(\"Generating Particles...\")\n",
    "        radii = [max_radius for _ in range(N)]\n",
    "        circles = pc.pack(radii)\n",
    "        for (x, y, radius) in circles:\n",
    "            mass = 1\n",
    "            temp_coor = np.array([x, y]) + np.array([self.D_max/2, self.D_max/2])\n",
    "            temp_vel = np.random.uniform(-1, 1, (2,))*max_vel\n",
    "            particle = Particle(temp_coor, temp_vel, radius*0.8, mass)\n",
    "            self.particles.append(particle)\n",
    "\n",
    "    def show_environment(self, i):\n",
    "        fig, ax = plt.subplots()\n",
    "        ax.set_xlim([0, self.D_max])\n",
    "        ax.set_ylim([0, self.D_max])\n",
    "        energy = 0\n",
    "        momentum = np.zeros(2,)\n",
    "        for p in self.particles:\n",
    "            momentum += p.mass * p.velocity\n",
    "            energy += 0.5 * p.mass * np.dot(p.velocity, p.velocity)\n",
    "            circle = plt.Circle(p.coordinate, p.radius, color=p.color)\n",
    "            ax.add_patch(circle)\n",
    "        ax.set_title(f'Energy: {energy} & Momentum: {momentum}')\n",
    "        fig.savefig(f\"./images/{i}.jpg\")\n",
    "        plt.close(fig)\n",
    "    \n",
    "    def fix_border(self, particle):\n",
    "        x, y = particle.coordinate\n",
    "        if is_close((x), (self.D_max), particle.radius) or is_close(x, 0, particle.radius): \n",
    "            particle.velocity = np.multiply(particle.velocity, np.array([-1, 1]))\n",
    "            particle.just_border = True\n",
    "        if is_close((y), (self.D_max), particle.radius) or is_close(y, 0, particle.radius): \n",
    "            particle.velocity = np.multiply(particle.velocity, np.array([1, -1]))\n",
    "            particle.just_border =  True\n",
    "        return particle\n",
    "    \n",
    "    def check_collisions(self):\n",
    "        for i in range(len(self.particles)-1):\n",
    "            for j in range(i+1, len(self.particles)):\n",
    "                p1 = self.particles[i]\n",
    "                p2 = self.particles[j]\n",
    "                x1 = p1.coordinate\n",
    "                x2 = p2.coordinate\n",
    "                dist = p1.radius + p2.radius\n",
    "                if is_close(x1, x2, dist):\n",
    "                    m1 = p1.mass\n",
    "                    m2 = p2.mass\n",
    "                    v1 = p1.velocity\n",
    "                    v2 = p2.velocity\n",
    "                    dist = np.linalg.norm(x1-x2)\n",
    "                    self.particles[i].velocity = v1 - (2*m2/(m1+m2)) * np.dot(v1-v2, x1-x2) * (1/(dist**2)) * (x1 - x2)\n",
    "                    self.particles[j].velocity = v2 - (2*m1/(m1+m2)) * np.dot(v2-v1, x2-x1) * (1/(dist**2)) * (x2 - x1)\n",
    "                    \n",
    "    \n",
    "    def update_environment(self):\n",
    "        for p in self.particles: \n",
    "            p.motion_update(0, self.delta_t)\n",
    "            p = self.fix_border(p)\n",
    "        \n",
    "        self.check_collisions()\n",
    "        return\n",
    "            "
   ]
  },
  {
   "cell_type": "code",
   "execution_count": 28,
   "metadata": {},
   "outputs": [
    {
     "name": "stdout",
     "output_type": "stream",
     "text": [
      "Generating Particles...\n",
      "Running Simulation...\n"
     ]
    },
    {
     "data": {
      "application/vnd.jupyter.widget-view+json": {
       "model_id": "f4a62332b478436b9d5637163745ff3b",
       "version_major": 2,
       "version_minor": 0
      },
      "text/plain": [
       "  0%|          | 0/1200 [00:00<?, ?it/s]"
      ]
     },
     "metadata": {},
     "output_type": "display_data"
    }
   ],
   "source": [
    "fps = 120\n",
    "duration = 10\n",
    "\n",
    "env = Environment(10, 1/fps)\n",
    "env.generate_particles(30)\n",
    "i = 0\n",
    "print(\"Running Simulation...\")\n",
    "for i in tqdm(range(fps*duration)):\n",
    "    env.update_environment()\n",
    "    env.show_environment(i)\n",
    "    i+=1"
   ]
  },
  {
   "cell_type": "code",
   "execution_count": 29,
   "metadata": {},
   "outputs": [
    {
     "name": "stdout",
     "output_type": "stream",
     "text": [
      "Reading Images...\n"
     ]
    },
    {
     "data": {
      "application/vnd.jupyter.widget-view+json": {
       "model_id": "f016eaa8b6124c598f0fbb87b271f011",
       "version_major": 2,
       "version_minor": 0
      },
      "text/plain": [
       "  0%|          | 0/1200 [00:00<?, ?it/s]"
      ]
     },
     "metadata": {},
     "output_type": "display_data"
    },
    {
     "name": "stdout",
     "output_type": "stream",
     "text": [
      "Making The video...\n"
     ]
    },
    {
     "data": {
      "application/vnd.jupyter.widget-view+json": {
       "model_id": "01abb5d447444b7fb705992270955a72",
       "version_major": 2,
       "version_minor": 0
      },
      "text/plain": [
       "  0%|          | 0/1200 [00:00<?, ?it/s]"
      ]
     },
     "metadata": {},
     "output_type": "display_data"
    }
   ],
   "source": [
    "img_array = []\n",
    "files = os.listdir(img_path)\n",
    "files = sorted(files, key=lambda x: int(x.split('.')[0]))\n",
    "\n",
    "print(\"Reading Images...\")\n",
    "\n",
    "for filename in tqdm(files):\n",
    "    img = cv2.imread(img_path+filename)\n",
    "    height, width, layers = img.shape\n",
    "    size = (width,height)\n",
    "    img_array.append(img)\n",
    "\n",
    "\n",
    "out = cv2.VideoWriter('project.avi',cv2.VideoWriter_fourcc(*'DIVX'), fps, size)\n",
    "\n",
    "print(\"Making The video...\") \n",
    "for i in tqdm(range(len(img_array))):\n",
    "    out.write(img_array[i])\n",
    "out.release()"
   ]
  },
  {
   "cell_type": "code",
   "execution_count": null,
   "metadata": {},
   "outputs": [],
   "source": []
  }
 ],
 "metadata": {
  "kernelspec": {
   "display_name": "Python 3.10.5 ('.mldev')",
   "language": "python",
   "name": "python3"
  },
  "language_info": {
   "codemirror_mode": {
    "name": "ipython",
    "version": 3
   },
   "file_extension": ".py",
   "mimetype": "text/x-python",
   "name": "python",
   "nbconvert_exporter": "python",
   "pygments_lexer": "ipython3",
   "version": "3.10.5"
  },
  "orig_nbformat": 4,
  "vscode": {
   "interpreter": {
    "hash": "19266cbb19c7d437ed74b427797c233550faa7136e2336c345645d4b2d0a5c3c"
   }
  }
 },
 "nbformat": 4,
 "nbformat_minor": 2
}
