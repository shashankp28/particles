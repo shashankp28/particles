{
 "cells": [
  {
   "cell_type": "code",
   "execution_count": 1,
   "metadata": {},
   "outputs": [],
   "source": [
    "import os\n",
    "import cv2\n",
    "import shutil\n",
    "import numpy as np\n",
    "import packcircles as pc\n",
    "from tqdm.notebook import tqdm\n",
    "import matplotlib.pyplot as plt"
   ]
  },
  {
   "cell_type": "code",
   "execution_count": 2,
   "metadata": {},
   "outputs": [],
   "source": [
    "img_path = \"./images/\""
   ]
  },
  {
   "cell_type": "code",
   "execution_count": 3,
   "metadata": {},
   "outputs": [],
   "source": [
    "def is_close(a, b, eps):\n",
    "    a = np.array(a)\n",
    "    b = np.array(b)\n",
    "    return np.linalg.norm(a-b)<=eps\n",
    "\n",
    "def get_boundary(circles):\n",
    "    fuzz = 5\n",
    "    d_max = -float('inf')\n",
    "    max_radius = d_max\n",
    "    particle_coors = []\n",
    "    for (x, y, radius) in circles: \n",
    "        d_max = max([d_max, abs(x)*fuzz+radius, abs(y)*fuzz+radius])\n",
    "        max_radius = max(max_radius, radius)\n",
    "        particle_coors.append((x*fuzz, y*fuzz, radius))\n",
    "    return d_max, max_radius, particle_coors\n",
    "\n",
    "def get_force(p1, p2):\n",
    "    return p1.mass * p2.mass * (p2.coordinate - p1.coordinate) / ((np.linalg.norm(p2.coordinate - p1.coordinate))**3)"
   ]
  },
  {
   "cell_type": "code",
   "execution_count": 4,
   "metadata": {},
   "outputs": [],
   "source": [
    "class Particle:\n",
    "    \n",
    "    def __init__(self, coor, vel, rad, m):\n",
    "        self.coordinate = coor\n",
    "        self.velocity = vel\n",
    "        self.radius = rad\n",
    "        self.mass = m\n",
    "        self.color = np.random.rand(3,)\n",
    "    \n",
    "    def motion_update(self, force, delta_t):\n",
    "        self.coordinate += self.velocity * delta_t\n",
    "        self.velocity += (force/self.mass) * delta_t"
   ]
  },
  {
   "cell_type": "code",
   "execution_count": 5,
   "metadata": {},
   "outputs": [],
   "source": [
    "class Environment:\n",
    "    \n",
    "    def __init__(self, dt, mv, mrr, n, G):\n",
    "        self.D_max = None\n",
    "        self.particles = []\n",
    "        self.delta_t = dt\n",
    "        self.max_vel = mv\n",
    "        self.M_by_rr = mrr\n",
    "        self.N = n\n",
    "        self.G = G\n",
    "        \n",
    "    def generate_particles(self):\n",
    "        print(\"Generating Particles...\")\n",
    "        radii = [np.random.uniform(0.2, 0.4) for _ in range(self.N)]\n",
    "        circles = pc.pack(radii)\n",
    "        self.D_max, max_radius, particle_coors = get_boundary(circles)\n",
    "        self.D_max = (self.D_max + max_radius)*2\n",
    "        for (x, y, radius) in particle_coors:\n",
    "            mass = radius*self.M_by_rr\n",
    "            temp_coor = np.array([x, y]) + np.array([self.D_max/2, self.D_max/2])\n",
    "            temp_vel = np.random.uniform(-1, 1, (2,))*self.max_vel\n",
    "            particle = Particle(temp_coor, temp_vel*0, radius, mass)\n",
    "            self.particles.append(particle)\n",
    "\n",
    "    def show_environment(self, i):\n",
    "        fig, ax = plt.subplots(figsize=(14, 14))\n",
    "        ax.set_xlim([0, self.D_max])\n",
    "        ax.set_ylim([0, self.D_max])\n",
    "        energy = 0\n",
    "        momentum = np.zeros(2,)\n",
    "        for p in self.particles:\n",
    "            momentum += p.mass * p.velocity\n",
    "            energy += 0.5 * p.mass * np.dot(p.velocity, p.velocity)\n",
    "            circle = plt.Circle(p.coordinate, p.radius, color=p.color)\n",
    "            ax.add_patch(circle)\n",
    "        ax.set_title(f'Kinetic Energy: {np.round(energy, 3)} & Momentum: {np.round(momentum, 3)}')\n",
    "        fig.savefig(f\"./images/{i}.jpg\")\n",
    "        plt.close(fig)\n",
    "    \n",
    "    def fix_border(self, particle):\n",
    "        x, y = particle.coordinate\n",
    "        if is_close((x), (self.D_max), particle.radius) or is_close(x, 0, particle.radius): \n",
    "            particle.velocity = np.multiply(particle.velocity, np.array([-1, 1]))\n",
    "            particle.just_border = True\n",
    "        if is_close((y), (self.D_max), particle.radius) or is_close(y, 0, particle.radius): \n",
    "            particle.velocity = np.multiply(particle.velocity, np.array([1, -1]))\n",
    "            particle.just_border =  True\n",
    "        return particle\n",
    "    \n",
    "    def check_collisions(self):\n",
    "        for i in range(len(self.particles)-1):\n",
    "            for j in range(i+1, len(self.particles)):\n",
    "                p1 = self.particles[i]\n",
    "                p2 = self.particles[j]\n",
    "                x1 = p1.coordinate\n",
    "                x2 = p2.coordinate\n",
    "                dist = p1.radius + p2.radius\n",
    "                if is_close(x1, x2, dist):\n",
    "                    m1 = p1.mass\n",
    "                    m2 = p2.mass\n",
    "                    v1 = p1.velocity\n",
    "                    v2 = p2.velocity\n",
    "                    dist = np.linalg.norm(x1-x2)\n",
    "                    self.particles[i].velocity = v1 - (2*m2/(m1+m2)) * np.dot(v1-v2, x1-x2) * (1/(dist**2)) * (x1 - x2)\n",
    "                    self.particles[j].velocity = v2 - (2*m1/(m1+m2)) * np.dot(v2-v1, x2-x1) * (1/(dist**2)) * (x2 - x1)\n",
    "                    \n",
    "    \n",
    "    def update_environment(self):\n",
    "        \n",
    "        force_matrix = np.zeros((self.N, self.N, 2))\n",
    "        \n",
    "        for i in range(self.N-1):\n",
    "            for j in range(i+1, self.N):\n",
    "                force_matrix[i][j] = self.G * get_force(self.particles[i], self.particles[j])\n",
    "        \n",
    "        individual_forces = np.zeros((self.N, 2))\n",
    "        \n",
    "        for i in range(self.N-1):\n",
    "            for j in range(i+1, self.N):\n",
    "                individual_forces[i] += force_matrix[i][j]\n",
    "                individual_forces[j] -= force_matrix[i][j]\n",
    "        \n",
    "        for i, p in enumerate(self.particles): \n",
    "            p.motion_update(individual_forces[i], self.delta_t)\n",
    "            p = self.fix_border(p)\n",
    "        \n",
    "        self.check_collisions()\n",
    "        return\n",
    "            "
   ]
  },
  {
   "cell_type": "code",
   "execution_count": 8,
   "metadata": {},
   "outputs": [
    {
     "name": "stdout",
     "output_type": "stream",
     "text": [
      "Generating Particles...\n",
      "Running Simulation...\n"
     ]
    },
    {
     "data": {
      "application/vnd.jupyter.widget-view+json": {
       "model_id": "e9bb1038da0b4e49a52f6d8b5b9772a0",
       "version_major": 2,
       "version_minor": 0
      },
      "text/plain": [
       "  0%|          | 0/18000 [00:00<?, ?it/s]"
      ]
     },
     "metadata": {},
     "output_type": "display_data"
    }
   ],
   "source": [
    "shutil.rmtree(img_path)\n",
    "os.mkdir(img_path)\n",
    "\n",
    "fps = 60\n",
    "duration = 300\n",
    "\n",
    "env = Environment(dt=1/fps, mv=0, mrr=3, n=20, G=1)\n",
    "env.generate_particles()\n",
    "i = 0\n",
    "print(\"Running Simulation...\")\n",
    "\n",
    "\n",
    "for i in tqdm(range(fps*duration)):\n",
    "    env.update_environment()\n",
    "    env.show_environment(i)\n",
    "    i+=1"
   ]
  },
  {
   "cell_type": "code",
   "execution_count": null,
   "metadata": {},
   "outputs": [
    {
     "name": "stdout",
     "output_type": "stream",
     "text": [
      "Reading Images...\n"
     ]
    },
    {
     "data": {
      "application/vnd.jupyter.widget-view+json": {
       "model_id": "2097236bbdc0458e8ab580fb1f8e002a",
       "version_major": 2,
       "version_minor": 0
      },
      "text/plain": [
       "  0%|          | 0/600 [00:00<?, ?it/s]"
      ]
     },
     "metadata": {},
     "output_type": "display_data"
    },
    {
     "name": "stdout",
     "output_type": "stream",
     "text": [
      "Making The video...\n"
     ]
    },
    {
     "data": {
      "application/vnd.jupyter.widget-view+json": {
       "model_id": "dbab5e02153a430d88767c9747eb2122",
       "version_major": 2,
       "version_minor": 0
      },
      "text/plain": [
       "  0%|          | 0/600 [00:00<?, ?it/s]"
      ]
     },
     "metadata": {},
     "output_type": "display_data"
    }
   ],
   "source": [
    "img_array = []\n",
    "files = os.listdir(img_path)\n",
    "files = sorted(files, key=lambda x: int(x.split('.')[0]))\n",
    "\n",
    "print(\"Reading Images...\")\n",
    "\n",
    "for filename in tqdm(files):\n",
    "    img = cv2.imread(img_path+filename)\n",
    "    height, width, layers = img.shape\n",
    "    size = (width,height)\n",
    "    img_array.append(img)\n",
    "\n",
    "\n",
    "out = cv2.VideoWriter('project.avi',cv2.VideoWriter_fourcc(*'DIVX'), fps, size)\n",
    "\n",
    "print(\"Making The video...\") \n",
    "for i in tqdm(range(len(img_array))):\n",
    "    out.write(img_array[i])\n",
    "out.release()"
   ]
  }
 ],
 "metadata": {
  "kernelspec": {
   "display_name": "Python 3.10.5 ('.mldev')",
   "language": "python",
   "name": "python3"
  },
  "language_info": {
   "codemirror_mode": {
    "name": "ipython",
    "version": 3
   },
   "file_extension": ".py",
   "mimetype": "text/x-python",
   "name": "python",
   "nbconvert_exporter": "python",
   "pygments_lexer": "ipython3",
   "version": "3.10.5"
  },
  "orig_nbformat": 4,
  "vscode": {
   "interpreter": {
    "hash": "19266cbb19c7d437ed74b427797c233550faa7136e2336c345645d4b2d0a5c3c"
   }
  }
 },
 "nbformat": 4,
 "nbformat_minor": 2
}
