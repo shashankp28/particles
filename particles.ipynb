{
 "cells": [
  {
   "cell_type": "code",
   "execution_count": 32,
   "metadata": {},
   "outputs": [],
   "source": [
    "import os\n",
    "import cv2\n",
    "import shutil\n",
    "import numpy as np\n",
    "import packcircles as pc\n",
    "from tqdm.notebook import tqdm\n",
    "import matplotlib.pyplot as plt"
   ]
  },
  {
   "cell_type": "code",
   "execution_count": 33,
   "metadata": {},
   "outputs": [],
   "source": [
    "img_path = \"./images/\""
   ]
  },
  {
   "cell_type": "code",
   "execution_count": 34,
   "metadata": {},
   "outputs": [],
   "source": [
    "def is_close(a, b, eps):\n",
    "    a = np.array(a)\n",
    "    b = np.array(b)\n",
    "    return np.linalg.norm(a-b)<=eps\n",
    "\n",
    "def get_boundary(circles):\n",
    "    fuzz = 5\n",
    "    d_max = -float('inf')\n",
    "    max_radius = d_max\n",
    "    particle_coors = []\n",
    "    for (x, y, radius) in circles: \n",
    "        d_max = max([d_max, abs(x)*fuzz+radius, abs(y)*fuzz+radius])\n",
    "        max_radius = max(max_radius, radius)\n",
    "        particle_coors.append((x*fuzz, y*fuzz, radius))\n",
    "    return d_max, max_radius, particle_coors"
   ]
  },
  {
   "cell_type": "code",
   "execution_count": 35,
   "metadata": {},
   "outputs": [],
   "source": [
    "class Particle:\n",
    "    \n",
    "    def __init__(self, coor, vel, rad, m):\n",
    "        self.coordinate = coor\n",
    "        self.velocity = vel\n",
    "        self.radius = rad\n",
    "        self.mass = m\n",
    "        self.color = np.random.rand(3,)\n",
    "    \n",
    "    def motion_update(self, acceleration, delta_t):\n",
    "        self.coordinate += self.velocity * delta_t\n",
    "        self.velocity += acceleration * delta_t"
   ]
  },
  {
   "cell_type": "code",
   "execution_count": 36,
   "metadata": {},
   "outputs": [],
   "source": [
    "class Environment:\n",
    "    \n",
    "    def __init__(self, dt, mv, mrr):\n",
    "        self.D_max = None\n",
    "        self.particles = []\n",
    "        self.delta_t = dt\n",
    "        self.max_vel = mv\n",
    "        self.M_by_rr = mrr\n",
    "        \n",
    "    def generate_particles(self, N):\n",
    "        print(\"Generating Particles...\")\n",
    "        radii = [np.random.uniform(0.2, 0.4) for _ in range(N)]\n",
    "        circles = pc.pack(radii)\n",
    "        self.D_max, max_radius, particle_coors = get_boundary(circles)\n",
    "        self.D_max = (self.D_max + max_radius)*2\n",
    "        for (x, y, radius) in particle_coors:\n",
    "            mass = radius*self.M_by_rr\n",
    "            temp_coor = np.array([x, y]) + np.array([self.D_max/2, self.D_max/2])\n",
    "            temp_vel = np.random.uniform(-1, 1, (2,))*self.max_vel\n",
    "            particle = Particle(temp_coor, temp_vel, radius, mass)\n",
    "            self.particles.append(particle)\n",
    "\n",
    "    def show_environment(self, i):\n",
    "        fig, ax = plt.subplots(figsize=(14, 14))\n",
    "        ax.set_xlim([0, self.D_max])\n",
    "        ax.set_ylim([0, self.D_max])\n",
    "        energy = 0\n",
    "        momentum = np.zeros(2,)\n",
    "        for p in self.particles:\n",
    "            momentum += p.mass * p.velocity\n",
    "            energy += 0.5 * p.mass * np.dot(p.velocity, p.velocity)\n",
    "            circle = plt.Circle(p.coordinate, p.radius, color=p.color)\n",
    "            ax.add_patch(circle)\n",
    "        ax.set_title(f'Energy: {np.round(energy, 3)} & Momentum: {np.round(momentum, 3)}')\n",
    "        fig.savefig(f\"./images/{i}.jpg\")\n",
    "        plt.close(fig)\n",
    "    \n",
    "    def fix_border(self, particle):\n",
    "        x, y = particle.coordinate\n",
    "        if is_close((x), (self.D_max), particle.radius) or is_close(x, 0, particle.radius): \n",
    "            particle.velocity = np.multiply(particle.velocity, np.array([-1, 1]))\n",
    "            particle.just_border = True\n",
    "        if is_close((y), (self.D_max), particle.radius) or is_close(y, 0, particle.radius): \n",
    "            particle.velocity = np.multiply(particle.velocity, np.array([1, -1]))\n",
    "            particle.just_border =  True\n",
    "        return particle\n",
    "    \n",
    "    def check_collisions(self):\n",
    "        for i in range(len(self.particles)-1):\n",
    "            for j in range(i+1, len(self.particles)):\n",
    "                p1 = self.particles[i]\n",
    "                p2 = self.particles[j]\n",
    "                x1 = p1.coordinate\n",
    "                x2 = p2.coordinate\n",
    "                dist = p1.radius + p2.radius\n",
    "                if is_close(x1, x2, dist):\n",
    "                    m1 = p1.mass\n",
    "                    m2 = p2.mass\n",
    "                    v1 = p1.velocity\n",
    "                    v2 = p2.velocity\n",
    "                    dist = np.linalg.norm(x1-x2)\n",
    "                    self.particles[i].velocity = v1 - (2*m2/(m1+m2)) * np.dot(v1-v2, x1-x2) * (1/(dist**2)) * (x1 - x2)\n",
    "                    self.particles[j].velocity = v2 - (2*m1/(m1+m2)) * np.dot(v2-v1, x2-x1) * (1/(dist**2)) * (x2 - x1)\n",
    "                    \n",
    "    \n",
    "    def update_environment(self):\n",
    "        for p in self.particles: \n",
    "            p.motion_update(0, self.delta_t)\n",
    "            p = self.fix_border(p)\n",
    "        \n",
    "        self.check_collisions()\n",
    "        return\n",
    "            "
   ]
  },
  {
   "cell_type": "code",
   "execution_count": 37,
   "metadata": {},
   "outputs": [
    {
     "name": "stdout",
     "output_type": "stream",
     "text": [
      "Generating Particles...\n",
      "Running Simulation...\n"
     ]
    },
    {
     "data": {
      "application/vnd.jupyter.widget-view+json": {
       "model_id": "2921447f4da1464da7af825639fb7f1b",
       "version_major": 2,
       "version_minor": 0
      },
      "text/plain": [
       "  0%|          | 0/300 [00:00<?, ?it/s]"
      ]
     },
     "metadata": {},
     "output_type": "display_data"
    },
    {
     "ename": "KeyboardInterrupt",
     "evalue": "",
     "output_type": "error",
     "traceback": [
      "\u001b[1;31m---------------------------------------------------------------------------\u001b[0m",
      "\u001b[1;31mKeyboardInterrupt\u001b[0m                         Traceback (most recent call last)",
      "\u001b[1;32me:\\Programming\\Github_S\\particles\\particles.ipynb Cell 6\u001b[0m in \u001b[0;36m<cell line: 13>\u001b[1;34m()\u001b[0m\n\u001b[0;32m     <a href='vscode-notebook-cell:/e%3A/Programming/Github_S/particles/particles.ipynb#W5sZmlsZQ%3D%3D?line=9'>10</a>\u001b[0m \u001b[39mprint\u001b[39m(\u001b[39m\"\u001b[39m\u001b[39mRunning Simulation...\u001b[39m\u001b[39m\"\u001b[39m)\n\u001b[0;32m     <a href='vscode-notebook-cell:/e%3A/Programming/Github_S/particles/particles.ipynb#W5sZmlsZQ%3D%3D?line=12'>13</a>\u001b[0m \u001b[39mfor\u001b[39;00m i \u001b[39min\u001b[39;00m tqdm(\u001b[39mrange\u001b[39m(fps\u001b[39m*\u001b[39mduration)):\n\u001b[1;32m---> <a href='vscode-notebook-cell:/e%3A/Programming/Github_S/particles/particles.ipynb#W5sZmlsZQ%3D%3D?line=13'>14</a>\u001b[0m     env\u001b[39m.\u001b[39;49mupdate_environment()\n\u001b[0;32m     <a href='vscode-notebook-cell:/e%3A/Programming/Github_S/particles/particles.ipynb#W5sZmlsZQ%3D%3D?line=14'>15</a>\u001b[0m     env\u001b[39m.\u001b[39mshow_environment(i)\n\u001b[0;32m     <a href='vscode-notebook-cell:/e%3A/Programming/Github_S/particles/particles.ipynb#W5sZmlsZQ%3D%3D?line=15'>16</a>\u001b[0m     i\u001b[39m+\u001b[39m\u001b[39m=\u001b[39m\u001b[39m1\u001b[39m\n",
      "\u001b[1;32me:\\Programming\\Github_S\\particles\\particles.ipynb Cell 6\u001b[0m in \u001b[0;36mEnvironment.update_environment\u001b[1;34m(self)\u001b[0m\n\u001b[0;32m     <a href='vscode-notebook-cell:/e%3A/Programming/Github_S/particles/particles.ipynb#W5sZmlsZQ%3D%3D?line=67'>68</a>\u001b[0m     p\u001b[39m.\u001b[39mmotion_update(\u001b[39m0\u001b[39m, \u001b[39mself\u001b[39m\u001b[39m.\u001b[39mdelta_t)\n\u001b[0;32m     <a href='vscode-notebook-cell:/e%3A/Programming/Github_S/particles/particles.ipynb#W5sZmlsZQ%3D%3D?line=68'>69</a>\u001b[0m     p \u001b[39m=\u001b[39m \u001b[39mself\u001b[39m\u001b[39m.\u001b[39mfix_border(p)\n\u001b[1;32m---> <a href='vscode-notebook-cell:/e%3A/Programming/Github_S/particles/particles.ipynb#W5sZmlsZQ%3D%3D?line=70'>71</a>\u001b[0m \u001b[39mself\u001b[39;49m\u001b[39m.\u001b[39;49mcheck_collisions()\n\u001b[0;32m     <a href='vscode-notebook-cell:/e%3A/Programming/Github_S/particles/particles.ipynb#W5sZmlsZQ%3D%3D?line=71'>72</a>\u001b[0m \u001b[39mreturn\u001b[39;00m\n",
      "\u001b[1;32me:\\Programming\\Github_S\\particles\\particles.ipynb Cell 6\u001b[0m in \u001b[0;36mEnvironment.check_collisions\u001b[1;34m(self)\u001b[0m\n\u001b[0;32m     <a href='vscode-notebook-cell:/e%3A/Programming/Github_S/particles/particles.ipynb#W5sZmlsZQ%3D%3D?line=53'>54</a>\u001b[0m x2 \u001b[39m=\u001b[39m p2\u001b[39m.\u001b[39mcoordinate\n\u001b[0;32m     <a href='vscode-notebook-cell:/e%3A/Programming/Github_S/particles/particles.ipynb#W5sZmlsZQ%3D%3D?line=54'>55</a>\u001b[0m dist \u001b[39m=\u001b[39m p1\u001b[39m.\u001b[39mradius \u001b[39m+\u001b[39m p2\u001b[39m.\u001b[39mradius\n\u001b[1;32m---> <a href='vscode-notebook-cell:/e%3A/Programming/Github_S/particles/particles.ipynb#W5sZmlsZQ%3D%3D?line=55'>56</a>\u001b[0m \u001b[39mif\u001b[39;00m is_close(x1, x2, dist):\n\u001b[0;32m     <a href='vscode-notebook-cell:/e%3A/Programming/Github_S/particles/particles.ipynb#W5sZmlsZQ%3D%3D?line=56'>57</a>\u001b[0m     m1 \u001b[39m=\u001b[39m p1\u001b[39m.\u001b[39mmass\n\u001b[0;32m     <a href='vscode-notebook-cell:/e%3A/Programming/Github_S/particles/particles.ipynb#W5sZmlsZQ%3D%3D?line=57'>58</a>\u001b[0m     m2 \u001b[39m=\u001b[39m p2\u001b[39m.\u001b[39mmass\n",
      "\u001b[1;32me:\\Programming\\Github_S\\particles\\particles.ipynb Cell 6\u001b[0m in \u001b[0;36mis_close\u001b[1;34m(a, b, eps)\u001b[0m\n\u001b[0;32m      <a href='vscode-notebook-cell:/e%3A/Programming/Github_S/particles/particles.ipynb#W5sZmlsZQ%3D%3D?line=1'>2</a>\u001b[0m a \u001b[39m=\u001b[39m np\u001b[39m.\u001b[39marray(a)\n\u001b[0;32m      <a href='vscode-notebook-cell:/e%3A/Programming/Github_S/particles/particles.ipynb#W5sZmlsZQ%3D%3D?line=2'>3</a>\u001b[0m b \u001b[39m=\u001b[39m np\u001b[39m.\u001b[39marray(b)\n\u001b[1;32m----> <a href='vscode-notebook-cell:/e%3A/Programming/Github_S/particles/particles.ipynb#W5sZmlsZQ%3D%3D?line=3'>4</a>\u001b[0m \u001b[39mreturn\u001b[39;00m np\u001b[39m.\u001b[39;49mlinalg\u001b[39m.\u001b[39;49mnorm(a\u001b[39m-\u001b[39;49mb)\u001b[39m<\u001b[39m\u001b[39m=\u001b[39meps\n",
      "File \u001b[1;32m<__array_function__ internals>:180\u001b[0m, in \u001b[0;36mnorm\u001b[1;34m(*args, **kwargs)\u001b[0m\n",
      "File \u001b[1;32mc:\\Users\\Shashank\\.env\\.mldev\\lib\\site-packages\\numpy\\linalg\\linalg.py:2516\u001b[0m, in \u001b[0;36mnorm\u001b[1;34m(x, ord, axis, keepdims)\u001b[0m\n\u001b[0;32m   2514\u001b[0m     sqnorm \u001b[39m=\u001b[39m dot(x\u001b[39m.\u001b[39mreal, x\u001b[39m.\u001b[39mreal) \u001b[39m+\u001b[39m dot(x\u001b[39m.\u001b[39mimag, x\u001b[39m.\u001b[39mimag)\n\u001b[0;32m   2515\u001b[0m \u001b[39melse\u001b[39;00m:\n\u001b[1;32m-> 2516\u001b[0m     sqnorm \u001b[39m=\u001b[39m dot(x, x)\n\u001b[0;32m   2517\u001b[0m ret \u001b[39m=\u001b[39m sqrt(sqnorm)\n\u001b[0;32m   2518\u001b[0m \u001b[39mif\u001b[39;00m keepdims:\n",
      "File \u001b[1;32m<__array_function__ internals>:180\u001b[0m, in \u001b[0;36mdot\u001b[1;34m(*args, **kwargs)\u001b[0m\n",
      "\u001b[1;31mKeyboardInterrupt\u001b[0m: "
     ]
    }
   ],
   "source": [
    "shutil.rmtree(img_path)\n",
    "os.mkdir(img_path)\n",
    "\n",
    "fps = 30\n",
    "duration = 10\n",
    "\n",
    "env = Environment(dt=1/fps, mv=2, mrr=3)\n",
    "env.generate_particles(30)\n",
    "i = 0\n",
    "print(\"Running Simulation...\")\n",
    "\n",
    "\n",
    "for i in tqdm(range(fps*duration)):\n",
    "    env.update_environment()\n",
    "    env.show_environment(i)\n",
    "    i+=1"
   ]
  },
  {
   "cell_type": "code",
   "execution_count": 31,
   "metadata": {},
   "outputs": [
    {
     "name": "stdout",
     "output_type": "stream",
     "text": [
      "Reading Images...\n"
     ]
    },
    {
     "data": {
      "application/vnd.jupyter.widget-view+json": {
       "model_id": "57f6a734b40047ba9de2c6f4401c1582",
       "version_major": 2,
       "version_minor": 0
      },
      "text/plain": [
       "  0%|          | 0/300 [00:00<?, ?it/s]"
      ]
     },
     "metadata": {},
     "output_type": "display_data"
    },
    {
     "name": "stdout",
     "output_type": "stream",
     "text": [
      "Making The video...\n"
     ]
    },
    {
     "data": {
      "application/vnd.jupyter.widget-view+json": {
       "model_id": "a60240d1bc43456e997fc80ea935bd82",
       "version_major": 2,
       "version_minor": 0
      },
      "text/plain": [
       "  0%|          | 0/300 [00:00<?, ?it/s]"
      ]
     },
     "metadata": {},
     "output_type": "display_data"
    }
   ],
   "source": [
    "img_array = []\n",
    "files = os.listdir(img_path)\n",
    "files = sorted(files, key=lambda x: int(x.split('.')[0]))\n",
    "\n",
    "print(\"Reading Images...\")\n",
    "\n",
    "for filename in tqdm(files):\n",
    "    img = cv2.imread(img_path+filename)\n",
    "    height, width, layers = img.shape\n",
    "    size = (width,height)\n",
    "    img_array.append(img)\n",
    "\n",
    "\n",
    "out = cv2.VideoWriter('project.avi',cv2.VideoWriter_fourcc(*'DIVX'), fps, size)\n",
    "\n",
    "print(\"Making The video...\") \n",
    "for i in tqdm(range(len(img_array))):\n",
    "    out.write(img_array[i])\n",
    "out.release()"
   ]
  },
  {
   "cell_type": "code",
   "execution_count": null,
   "metadata": {},
   "outputs": [],
   "source": []
  }
 ],
 "metadata": {
  "kernelspec": {
   "display_name": "Python 3.10.5 ('.mldev')",
   "language": "python",
   "name": "python3"
  },
  "language_info": {
   "codemirror_mode": {
    "name": "ipython",
    "version": 3
   },
   "file_extension": ".py",
   "mimetype": "text/x-python",
   "name": "python",
   "nbconvert_exporter": "python",
   "pygments_lexer": "ipython3",
   "version": "3.10.5"
  },
  "orig_nbformat": 4,
  "vscode": {
   "interpreter": {
    "hash": "19266cbb19c7d437ed74b427797c233550faa7136e2336c345645d4b2d0a5c3c"
   }
  }
 },
 "nbformat": 4,
 "nbformat_minor": 2
}
